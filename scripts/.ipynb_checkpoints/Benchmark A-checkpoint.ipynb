{
 "cells": [
  {
   "cell_type": "code",
   "execution_count": 1,
   "metadata": {
    "pycharm": {
     "is_executing": false
    }
   },
   "outputs": [],
   "source": [
    "import numpy as np\n",
    "from typing import List, Tuple, Callable, Mapping\n",
    "import matplotlib.pyplot as plt\n",
    "%matplotlib inline\n",
    "import pandas as pd\n",
    "import seaborn as sns"
   ]
  },
  {
   "cell_type": "code",
   "execution_count": 2,
   "metadata": {
    "pycharm": {
     "is_executing": false,
     "name": "#%%\n"
    }
   },
   "outputs": [],
   "source": [
    "def plot_timing(mx_list, tf_list):\n",
    "    mx_s = pd.Series(mx_list)\n",
    "    tf_s = pd.Series(tf_list)\n",
    "\n",
    "    df = pd.concat([mx_s, tf_s], axis=1)\n",
    "    df = df.rename(columns = {0:\"mxnet\", 1:\"tensorflow\"})\n",
    "    return df.plot()"
   ]
  },
  {
   "cell_type": "code",
   "execution_count": 3,
   "metadata": {
    "pycharm": {
     "is_executing": false,
     "name": "#%%\n"
    }
   },
   "outputs": [],
   "source": [
    "def plot_time_vs_seed_line_errorbar(df_result):\n",
    "    # df_result should have 3 columns at least\n",
    "    # two columns for the timing of the two frameworks\n",
    "    # one last to record the seed, so to understand \n",
    "    # which timings (i.e. rows) are referred to the same exact\n",
    "    # bag of vectors (that should represent the difficulty of the experiment)\n",
    "    \n",
    "    df_averaged = df_result.groupby('seed').mean()\n",
    "    df_max = df_result.groupby('seed').max()\n",
    "    df_min = df_result.groupby('seed').min()\n",
    "    df_positive_error = df_max - df_averaged\n",
    "    df_negative_error = df_averaged - df_min\n",
    "    \n",
    "    fig = plt.figure()\n",
    "    fig.set_size_inches(18.5, 9)\n",
    "    plt.errorbar(df_averaged.index, df_averaged[\"mxnet\"], yerr=[df_negative_error[\"mxnet\"], df_positive_error[\"mxnet\"]])\n",
    "    plt.errorbar(df_averaged.index, df_averaged[\"tensorflow\"], yerr=[df_negative_error[\"tensorflow\"], df_positive_error[\"tensorflow\"]])\n",
    "    plt.show()\n",
    "    #df_averaged[[\"mxnet\",\"tensorflow\"]].plot()\n",
    "def plot_time_vs_dimension_line_errorbar(df_result, max_value): \n",
    "    # df_result should have 3 columns at least\n",
    "    # two columns for the timing of the two frameworks\n",
    "    # one last to record the seed, so to understand \n",
    "    # which timings (i.e. rows) are referred to the same exact\n",
    "    # bag of vectors (that should represent the difficulty of the experiment)\n",
    "    \n",
    "    df_averaged = df_result.groupby('dim').mean()\n",
    "    df_max = df_result.groupby('dim').max()\n",
    "    df_min = df_result.groupby('dim').min()\n",
    "    df_positive_error = df_max - df_averaged\n",
    "    df_negative_error = df_averaged - df_min\n",
    "    \n",
    "    fig = plt.figure()\n",
    "    axes = plt.gca()\n",
    "    axes.set_ylim([0,max_value])\n",
    "    fig.set_size_inches(18.5, 9)\n",
    "    plt.errorbar(df_averaged.index, df_averaged[\"mxnet\"], yerr=[df_negative_error[\"mxnet\"], df_positive_error[\"mxnet\"]])\n",
    "    plt.errorbar(df_averaged.index, df_averaged[\"tensorflow\"], yerr=[df_negative_error[\"tensorflow\"], df_positive_error[\"tensorflow\"]])\n",
    "    plt.show()\n",
    "    #df_averaged[[\"mxnet\",\"tensorflow\"]].plot()\n",
    "\n"
   ]
  },
  {
   "cell_type": "code",
   "execution_count": 4,
   "metadata": {
    "pycharm": {
     "is_executing": false,
     "name": "#%%\n"
    }
   },
   "outputs": [],
   "source": [
    "def plot_time_vs_seed_boxplot(df_result):\n",
    "    fig, ax = plt.subplots(figsize=(18.5, 9))\n",
    "    sns.boxplot(df_result[\"seed\"], df_result[\"mxnet\"], ax=ax, color=\"C0\")\n",
    "    sns.boxplot(df_result[\"seed\"], df_result[\"tensorflow\"], ax=ax, color=\"C1\")\n",
    "    #https://stackoverflow.com/questions/53142308/how-to-change-the-colour-of-the-seaborn-boxplot-extensive-line-and-outliers\n",
    "    ax.set_ylabel(\"time in fraction of seconds\", fontsize=20)"
   ]
  },
  {
   "cell_type": "code",
   "execution_count": 5,
   "metadata": {
    "pycharm": {
     "is_executing": false,
     "name": "#%%\n"
    }
   },
   "outputs": [],
   "source": [
    "def plot_time_vs_dimension_boxplot(df_result, max_value, title):\n",
    "    fig, ax = plt.subplots(figsize=(18.5, 9))\n",
    "    ax.set_title(title, fontsize = 30)\n",
    "    ax.set_ylim(0,max_value)\n",
    "    sns.boxplot(df_result[\"dim\"], df_result[\"mxnet\"], ax=ax, color=\"C0\", showfliers=False)\n",
    "    sns.boxplot(df_result[\"dim\"], df_result[\"tensorflow\"], ax=ax, color=\"C1\", showfliers=False)\n",
    "    #https://stackoverflow.com/questions/53142308/how-to-change-the-colour-of-the-seaborn-boxplot-extensive-line-and-outliers\n",
    "    ax.set_ylabel(\"time in fraction of seconds\", fontsize=20)\n",
    "    ax.set_xlabel(\"vector dimension\", fontsize=20)\n"
   ]
  },
  {
   "cell_type": "code",
   "execution_count": 6,
   "metadata": {
    "pycharm": {
     "is_executing": false,
     "name": "#%%\n"
    }
   },
   "outputs": [],
   "source": [
    "# test if the two samples are significantly different\n",
    "# https://machinelearningmastery.com/statistical-hypothesis-tests-in-python-cheat-sheet/\n",
    "from scipy.stats import ttest_ind\n",
    "\n",
    "def test_independence(mx_list, tf_list):\n",
    "    stat, p = ttest_ind(mx_list, tf_list)\n",
    "    print('stat=%.3f, p=%.3f' % (stat, p))\n",
    "    if p > 0.05:\n",
    "        print('Probably the same distribution')\n",
    "    else:\n",
    "        print('Probably different distributions')"
   ]
  },
  {
   "cell_type": "markdown",
   "metadata": {},
   "source": [
    "# To run Benchmark A: execute the following cell\n",
    "\n",
    "-m decide for the mode: cpu vs gpu\n",
    "\n",
    "-e regulates the scales of dimensions that you will test in the fundamental operation (specifically for all the \"easy\" operatins vector creation, activation, flattening, normalization)\n",
    "\n",
    "-d regulates the scale of dimensions that you will test (specifically for \"difficult\" taks like dot product and matrix multiplication)\n",
    "\n",
    "--list attribute can decide wich test to run (e.g --list 1,2,4)\n",
    "\n",
    "These is the numbering of the experiments if you want to run only some of them with the list command:\n",
    "1. vector creation\n",
    "1. activation function\n",
    "1. dot product\n",
    "1. matrix multiplication\n",
    "1. flatten a vector\n",
    "1. normalize a matrix"
   ]
  },
  {
   "cell_type": "code",
   "execution_count": 8,
   "metadata": {
    "pycharm": {
     "name": "#%%\n"
    }
   },
   "outputs": [
    {
     "name": "stdout",
     "output_type": "stream",
     "text": [
      "> 5 <\r\n",
      "Mode:  cpu\r\n",
      "Verbose:  False\r\n",
      "m1 (multiplier for easy tasks):  100\r\n",
      "m2 (multiplier for hard tasks):  10\r\n",
      "list or experiment to run:  [5]\r\n",
      "Using the current versions. TF:  2.1.0  - MX : 1.5.1\r\n",
      "Tensorflow - GPUs Available:  0\r\n",
      "Saving folder:  your_benchmark_result_fundam_ops/\r\n",
      "2020-03-12 18:13:03.030815: I tensorflow/core/platform/cpu_feature_guard.cc:142] Your CPU supports instructions that this TensorFlow binary was not compiled to use: AVX2 FMA\r\n",
      "2020-03-12 18:13:03.053533: I tensorflow/compiler/xla/service/service.cc:168] XLA service 0x7fcf6ba79480 initialized for platform Host (this does not guarantee that XLA will be used). Devices:\r\n",
      "2020-03-12 18:13:03.053553: I tensorflow/compiler/xla/service/service.cc:176]   StreamExecutor device (0): Host, Default Version\r\n"
     ]
    }
   ],
   "source": [
    "# previous experiments will be overwritten\n",
    "\n",
    "# FOR CPU\n",
    "!python3 experiments.py -m cpu -e 100 -d 10 --list 1,2,3,4,5,6 \n",
    "\n",
    "# FOR GPU\n",
    "!python3 experiments.py -m gpu -e 100 -d 10 --list 1,2,3,4,5,6"
   ]
  },
  {
   "cell_type": "markdown",
   "metadata": {},
   "source": [
    "##  Run the following to visualize your results"
   ]
  },
  {
   "cell_type": "code",
   "execution_count": 10,
   "metadata": {},
   "outputs": [
    {
     "data": {
      "image/png": "[encoded data removed]",
      "text/plain": [
       "<Figure size 1332x648 with 1 Axes>"
      ]
     },
     "metadata": {
      "needs_background": "light"
     },
     "output_type": "display_data"
    }
   ],
   "source": [
    "## CPU\n",
    "\n",
    "import os\n",
    "\n",
    "folder = 'your_benchmark_result_fundam_ops'\n",
    "for filename in sorted(os.listdir(os.getcwd() + \"/\" + folder)):\n",
    "    if filename.endswith(\".csv\") and filename.startswith(\"cpu\"):\n",
    "        df = pd.read_csv(folder + \"/\" + filename)\n",
    "        #print(df.head())\n",
    "        title = filename.split(\".\")[0].replace(\"-\",\" \")\n",
    "        #print(title)\n",
    "        cutoff_tf = np.percentile(df[\"tensorflow\"], 99.9)\n",
    "        cutoff_mx = np.percentile(df[\"mxnet\"], 99.9)\n",
    "        cutoff = max(cutoff_tf, cutoff_mx)\n",
    "        #plot_time_vs_dimension_line_errorbar(df, max_value = cutoff)\n",
    "        plot_time_vs_dimension_boxplot(df, max_value = cutoff, title = title)\n",
    "        plt.show()\n",
    "        continue\n",
    "    else:\n",
    "        continue"
   ]
  },
  {
   "cell_type": "code",
   "execution_count": 11,
   "metadata": {},
   "outputs": [],
   "source": [
    "## GPU\n",
    "\n",
    "import os\n",
    "\n",
    "folder = 'your_benchmark_result_fundam_ops'\n",
    "for filename in sorted(os.listdir(os.getcwd() + \"/\" + folder)):\n",
    "    if filename.endswith(\".csv\") and filename.startswith(\"gpu\"):\n",
    "        df = pd.read_csv(folder + \"/\" + filename)\n",
    "        #print(df.head())\n",
    "        title = filename.split(\".\")[0].replace(\"-\",\" \")\n",
    "        #print(title)\n",
    "        cutoff_tf = np.percentile(df[\"tensorflow\"], 99.9)\n",
    "        cutoff_mx = np.percentile(df[\"mxnet\"], 99.9)\n",
    "        cutoff = max(cutoff_tf, cutoff_mx)\n",
    "        #plot_time_vs_dimension_line_errorbar(df, max_value = cutoff)\n",
    "        plot_time_vs_dimension_boxplot(df, max_value = cutoff, title = title)\n",
    "        plt.show()\n",
    "        continue\n",
    "    else:\n",
    "        continue"
   ]
  },
  {
   "cell_type": "code",
   "execution_count": null,
   "metadata": {},
   "outputs": [],
   "source": []
  }
 ],
 "metadata": {
  "kernelspec": {
   "display_name": "Python 3",
   "language": "python",
   "name": "python3"
  },
  "language_info": {
   "codemirror_mode": {
    "name": "ipython",
    "version": 3
   },
   "file_extension": ".py",
   "mimetype": "text/x-python",
   "name": "python",
   "nbconvert_exporter": "python",
   "pygments_lexer": "ipython3",
   "version": "3.7.6"
  },
  "pycharm": {
   "stem_cell": {
    "cell_type": "raw",
    "metadata": {
     "collapsed": false
    },
    "source": []
   }
  }
 },
 "nbformat": 4,
 "nbformat_minor": 1
}
