{
 "cells": [
  {
   "cell_type": "code",
   "execution_count": 1,
   "metadata": {},
   "outputs": [
    {
     "name": "stdout",
     "output_type": "stream",
     "text": [
      "OS:  linux\n",
      "Python:  3.7.5 (default, Oct 27 2019, 15:43:29) \n",
      "[GCC 9.2.1 20191022]\n",
      "MXNet version 1.5.1\n"
     ]
    }
   ],
   "source": [
    "import os\n",
    "import sys\n",
    "import numpy as np\n",
    "import gzip\n",
    "import pandas as pd\n",
    "from time import time\n",
    "print(\"OS: \", sys.platform)\n",
    "print(\"Python: \", sys.version)\n",
    "\n",
    "from sklearn.model_selection import train_test_split\n",
    "import mxnet as mx\n",
    "from mxnet import nd, autograd\n",
    "from mxnet import gluon\n",
    "from mxnet.gluon import nn\n",
    "print(\"MXNet version\", mx.__version__) "
   ]
  },
  {
   "cell_type": "code",
   "execution_count": 2,
   "metadata": {},
   "outputs": [
    {
     "name": "stdout",
     "output_type": "stream",
     "text": [
      "[cpu(0), cpu(1)]\n"
     ]
    }
   ],
   "source": [
    "# Set GPU\n",
    "gpus = mx.test_utils.list_gpus()\n",
    "ctx =  [mx.gpu()] if gpus else [mx.cpu(0), mx.cpu(1)]\n",
    "print(ctx)"
   ]
  },
  {
   "cell_type": "code",
   "execution_count": 3,
   "metadata": {},
   "outputs": [],
   "source": [
    "import random\n",
    "np.random.seed(42)\n",
    "random.seed(42)\n",
    "for computing_unit in ctx:\n",
    "    mx.random.seed(42, ctx = computing_unit)"
   ]
  },
  {
   "cell_type": "code",
   "execution_count": 4,
   "metadata": {},
   "outputs": [],
   "source": [
    "# Read dataset - General Train/Test split\n",
    "def read_mnist(images_path: str, labels_path: str):\n",
    "    #mnist_path = \"data/mnist/\"\n",
    "    #images_path = mnist_path + images_path\n",
    "    print(images_path)\n",
    "    with gzip.open(labels_path, 'rb') as labelsFile:\n",
    "        labels = np.frombuffer(labelsFile.read(), dtype=np.uint8, offset=8)\n",
    "\n",
    "    with gzip.open(images_path,'rb') as imagesFile:\n",
    "        length = len(labels)\n",
    "        # Load flat 28x28 px images (784 px), and convert them to 28x28 px\n",
    "        features = np.frombuffer(imagesFile.read(), dtype=np.uint8, offset=16) \\\n",
    "                        .reshape(length, 784) \\\n",
    "                        .reshape(length, 28, 28, 1)\n",
    "    return features, labels"
   ]
  },
  {
   "cell_type": "code",
   "execution_count": 5,
   "metadata": {},
   "outputs": [
    {
     "name": "stdout",
     "output_type": "stream",
     "text": [
      "train-images-idx3-ubyte.gz\n",
      "t10k-images-idx3-ubyte.gz\n",
      "10000 -> # of test images.\n",
      "60000 -> # of training images (train + validation).\n",
      "     48000 -> # of (actual) training images.\n",
      "     12000 -> # of validation images.\n"
     ]
    }
   ],
   "source": [
    "# LOAD TRAIN AND TEST ALREADY SPLIT\n",
    "train = {}\n",
    "test = {}\n",
    "train['features'], train['labels'] = read_mnist('train-images-idx3-ubyte.gz', 'train-labels-idx1-ubyte.gz')\n",
    "test['features'], test['labels'] = read_mnist('t10k-images-idx3-ubyte.gz', 't10k-labels-idx1-ubyte.gz')\n",
    "print(test['features'].shape[0], '-> # of test images.')\n",
    "print(train['features'].shape[0], '-> # of training images (train + validation).')\n",
    "\n",
    "# CREATE TRAIN AND VALIDATION SPLIT\n",
    "validation = {}\n",
    "train['features'], validation['features'], train['labels'], validation['labels'] = train_test_split(train['features'], train['labels'], test_size=0.2, random_state=0)\n",
    "print(\"    \", train['features'].shape[0], '-> # of (actual) training images.')\n",
    "print(\"    \", validation['features'].shape[0], '-> # of validation images.')"
   ]
  },
  {
   "cell_type": "code",
   "execution_count": 20,
   "metadata": {},
   "outputs": [],
   "source": [
    "# GENERAL PARAMETERS\n",
    "EPOCHS = 10\n",
    "BATCH_SIZE = 200"
   ]
  },
  {
   "cell_type": "code",
   "execution_count": 21,
   "metadata": {},
   "outputs": [],
   "source": [
    "# convert from NHWC to NCHW that is used by MXNET\n",
    "# https://stackoverflow.com/questions/37689423/convert-between-nhwc-and-nchw-in-tensorflow\n",
    "X_train_mx = mx.ndarray.transpose(mx.nd.array(train['features']), axes=(0, 3, 1, 2))\n",
    "y_train_mx = mx.nd.array(train['labels'])\n",
    "X_validation_mx = mx.ndarray.transpose(mx.nd.array(validation['features']), axes=(0, 3, 1, 2))\n",
    "y_validation_mx = mx.nd.array(validation['labels'])\n",
    "X_test_mx = mx.ndarray.transpose(mx.nd.array(test['features']), axes=(0, 3, 1, 2))\n",
    "y_test_mx = mx.nd.array(test['labels'])\n",
    "# create data iterator\n",
    "train_data_mx = mx.io.NDArrayIter(X_train_mx.asnumpy(), y_train_mx.asnumpy(), BATCH_SIZE, shuffle=True)\n",
    "val_data_mx = mx.io.NDArrayIter(X_validation_mx.asnumpy(), y_validation_mx.asnumpy(), BATCH_SIZE)\n",
    "test_data_mx = mx.io.NDArrayIter(X_test_mx.asnumpy(), y_test_mx.asnumpy(), BATCH_SIZE)"
   ]
  },
  {
   "cell_type": "code",
   "execution_count": 22,
   "metadata": {},
   "outputs": [
    {
     "data": {
      "text/plain": [
       "(48000, 1, 28, 28)"
      ]
     },
     "execution_count": 22,
     "metadata": {},
     "output_type": "execute_result"
    }
   ],
   "source": [
    "X_train_mx.shape"
   ]
  },
  {
   "cell_type": "code",
   "execution_count": 23,
   "metadata": {},
   "outputs": [
    {
     "data": {
      "text/plain": [
       "numpy.ndarray"
      ]
     },
     "execution_count": 23,
     "metadata": {},
     "output_type": "execute_result"
    }
   ],
   "source": [
    "type(X_train_mx.asnumpy())"
   ]
  },
  {
   "cell_type": "code",
   "execution_count": 24,
   "metadata": {},
   "outputs": [],
   "source": [
    "# IDENTICAL TO LeNet paper: http://yann.lecun.com/exdb/publis/pdf/lecun-01a.pdf \n",
    "model_mx = nn.HybridSequential()\n",
    "model_mx.add(nn.Conv2D(channels=6, kernel_size=5, activation='relu'),\n",
    "        nn.AvgPool2D(pool_size=2, strides=2),\n",
    "        nn.Conv2D(channels=16, kernel_size=3, activation='relu'),\n",
    "        nn.AvgPool2D(pool_size=2, strides=2),\n",
    "        nn.Flatten(),\n",
    "        nn.Dense(120, activation=\"relu\"),\n",
    "        nn.Dense(84, activation=\"relu\"),\n",
    "        nn.Dense(10))"
   ]
  },
  {
   "cell_type": "code",
   "execution_count": 25,
   "metadata": {},
   "outputs": [
    {
     "name": "stdout",
     "output_type": "stream",
     "text": [
      "training acc at epoch 0: accuracy=0.862083\n",
      "training acc at epoch 1: accuracy=0.966958\n",
      "training acc at epoch 2: accuracy=0.976167\n",
      "training acc at epoch 3: accuracy=0.981167\n",
      "training acc at epoch 4: accuracy=0.985083\n",
      "training acc at epoch 5: accuracy=0.986563\n",
      "training acc at epoch 6: accuracy=0.989750\n",
      "training acc at epoch 7: accuracy=0.991083\n",
      "training acc at epoch 8: accuracy=0.991833\n",
      "training acc at epoch 9: accuracy=0.993771\n"
     ]
    }
   ],
   "source": [
    "#Train Model\n",
    "\n",
    "def training_procedure(handwritten_net, train_data):\n",
    "    global EPOCHS\n",
    "    global ctx\n",
    "    handwritten_net.initialize(mx.init.Xavier(), ctx=ctx, force_reinit=True)\n",
    "    #handwritten_net(init = mx.init.Xavier(), ctx=ctx)\n",
    "    optim = mx.optimizer.Adam(learning_rate=0.001, beta1=0.9, beta2=0.999, epsilon=1e-08, lazy_update=True)\n",
    "    trainer = gluon.Trainer(handwritten_net.collect_params(), optim)\n",
    "    # Use Accuracy as the evaluation metric.\n",
    "    metric = mx.metric.Accuracy()\n",
    "    softmax_cross_entropy_loss = gluon.loss.SoftmaxCrossEntropyLoss()\n",
    "    \n",
    "    for i in range(EPOCHS):\n",
    "        # Reset the train data iterator.\n",
    "        train_data.reset()\n",
    "        # Loop over the train data iterator.\n",
    "        for batch in train_data:\n",
    "            # Splits train data into multiple slices along batch_axis\n",
    "            # and copy each slice into a context.\n",
    "            data = gluon.utils.split_and_load(batch.data[0], ctx_list=ctx, batch_axis=0)\n",
    "            # Splits train labels into multiple slices along batch_axis\n",
    "            # and copy each slice into a context.\n",
    "            label = gluon.utils.split_and_load(batch.label[0], ctx_list=ctx, batch_axis=0)\n",
    "            outputs = []\n",
    "            # Inside training scope\n",
    "            with autograd.record():\n",
    "                for x, y in zip(data, label):\n",
    "                    z = handwritten_net(x)\n",
    "                    # Computes softmax cross entropy loss.\n",
    "                    loss = softmax_cross_entropy_loss(z, y)\n",
    "                    # Backpropogate the error for one iteration.\n",
    "                    loss.backward()\n",
    "                    outputs.append(z)\n",
    "            # Updates internal evaluation\n",
    "            metric.update(label, outputs)\n",
    "            # Make one step of parameter update. Trainer needs to know the\n",
    "            # batch size of data to normalize the gradient by 1/batch_size.\n",
    "            trainer.step(batch.data[0].shape[0])\n",
    "        # Gets the evaluation result.\n",
    "        name, acc = metric.get()\n",
    "        # Reset evaluation result to initial state.\n",
    "        metric.reset()\n",
    "        print('training acc at epoch %d: %s=%f'%(i, name, acc))\n",
    "    return handwritten_net\n",
    "\n",
    "trained_model_mx = training_procedure(model_mx, train_data_mx)"
   ]
  },
  {
   "cell_type": "code",
   "execution_count": 19,
   "metadata": {},
   "outputs": [
    {
     "name": "stdout",
     "output_type": "stream",
     "text": [
      "MXnet - Test accuracy : 0.980000\n"
     ]
    }
   ],
   "source": [
    "# Model Evaluation\n",
    "# TEST THE NETWORK\n",
    "metric = mx.metric.Accuracy()\n",
    "# Reset the test data iterator.\n",
    "test_data_mx.reset()\n",
    "# Loop over the test data iterator.\n",
    "for batch in test_data_mx:\n",
    "    # Splits test data into multiple slices along batch_axis\n",
    "    # and copy each slice into a context.\n",
    "    data = gluon.utils.split_and_load(batch.data[0], ctx_list=ctx, batch_axis=0)\n",
    "    # Splits validation label into multiple slices along batch_axis\n",
    "    # and copy each slice into a context.\n",
    "    label = gluon.utils.split_and_load(batch.label[0], ctx_list=ctx, batch_axis=0)\n",
    "    outputs = []\n",
    "    for x in data:\n",
    "        outputs.append(model_mx(x))\n",
    "    # Updates internal evaluation\n",
    "    metric.update(label, outputs)\n",
    "print('MXnet - Test %s : %f'%metric.get())\n",
    "assert metric.get()[1] > 0.90"
   ]
  },
  {
   "cell_type": "code",
   "execution_count": null,
   "metadata": {},
   "outputs": [],
   "source": []
  }
 ],
 "metadata": {
  "kernelspec": {
   "display_name": "Python 3",
   "language": "python",
   "name": "python3"
  },
  "language_info": {
   "codemirror_mode": {
    "name": "ipython",
    "version": 3
   },
   "file_extension": ".py",
   "mimetype": "text/x-python",
   "name": "python",
   "nbconvert_exporter": "python",
   "pygments_lexer": "ipython3",
   "version": "3.7.5"
  }
 },
 "nbformat": 4,
 "nbformat_minor": 2
}
