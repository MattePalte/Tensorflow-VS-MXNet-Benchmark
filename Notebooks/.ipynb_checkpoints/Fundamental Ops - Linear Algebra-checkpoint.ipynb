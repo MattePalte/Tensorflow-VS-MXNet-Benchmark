{
 "cells": [
  {
   "cell_type": "markdown",
   "metadata": {},
   "source": [
    "## Operations benchmarked\n",
    "The aim of this notebook is to benchmark the fundamental linear algebra operation in the two frameworks. The operations that will be compared are the followings:\n",
    "1. definition of variables\n",
    "1. create a vector\n",
    "1. activation function\n",
    "1. dot product\n",
    "1. matrix multiplication\n",
    "1. flatten a vector\n",
    "1. normalize a vector\n",
    "1. define a kernel\n",
    "\n",
    "## Workflow - General steps\n",
    "For each of them we will follow these steps:\n",
    "- define 2 benchmark functions (one for each framework) that contains a reasonable amount of computation\n",
    "- set the necessary random seeds (framework, python, numpy)\n",
    "- run the benchmark function multiple times (e.g. 100 times)\n",
    "- record the time for each run \n",
    "- plot the two runs on a diagram\n",
    "- run an HP to understand if the two distributions are significantly different\n",
    "- take the conclusion: which is better and why?"
   ]
  },
  {
   "cell_type": "markdown",
   "metadata": {},
   "source": [
    "## Benchmark Detail: Timing Function \n",
    "To benchmark the execution time of python function we used the library function process_time() before and after the function execution.\n",
    "\n",
    "#### time.process_time() → float\n",
    "Return the value (in fractional seconds) of the sum of the system and user CPU time of the current process. It does not include time elapsed during sleep. It is process-wide by definition. The reference point of the returned value is undefined, so that only the difference between the results of consecutive calls is valid.\n",
    "\n",
    "*New in version 3.3.*"
   ]
  },
  {
   "cell_type": "code",
   "execution_count": 1,
   "metadata": {},
   "outputs": [
    {
     "name": "stdout",
     "output_type": "stream",
     "text": [
      "This is the general error magnitude:  3.899999999995574e-05\n"
     ]
    }
   ],
   "source": [
    "import time\n",
    "\n",
    "start = time.process_time()\n",
    "# your function here\n",
    "end = time.process_time()\n",
    "print(\"This is the general error magnitude: \", end - start)"
   ]
  },
  {
   "cell_type": "markdown",
   "metadata": {},
   "source": [
    "### Benchmark: Other CPU and RAM usages\n",
    "source: https://stackoverflow.com/questions/276052/how-to-get-current-cpu-and-ram-usage-in-python\n",
    "\n",
    "UPDATE: Here is some example usages of psutil:"
   ]
  },
  {
   "cell_type": "code",
   "execution_count": 38,
   "metadata": {},
   "outputs": [
    {
     "data": {
      "text/plain": [
       "{'total': 17179869184,\n",
       " 'available': 7463714816,\n",
       " 'percent': 56.6,\n",
       " 'used': 9713758208,\n",
       " 'free': 289538048,\n",
       " 'active': 7206535168,\n",
       " 'inactive': 4395606016,\n",
       " 'wired': 2507223040}"
      ]
     },
     "execution_count": 38,
     "metadata": {},
     "output_type": "execute_result"
    }
   ],
   "source": [
    "#!/usr/bin/env python\n",
    "import psutil\n",
    "# gives a single float value\n",
    "psutil.cpu_percent()\n",
    "# gives an object with many fields\n",
    "psutil.virtual_memory()\n",
    "# you can convert that object to a dictionary \n",
    "dict(psutil.virtual_memory()._asdict())"
   ]
  },
  {
   "cell_type": "markdown",
   "metadata": {},
   "source": [
    "## Import the two frameworks"
   ]
  },
  {
   "cell_type": "code",
   "execution_count": 2,
   "metadata": {},
   "outputs": [
    {
     "name": "stdout",
     "output_type": "stream",
     "text": [
      "Tensorflow version (by Google):  2.0.0\n",
      "MXnet version (by Amazon):  1.5.1\n"
     ]
    }
   ],
   "source": [
    "import mxnet as mx\n",
    "import tensorflow as tf\n",
    "\n",
    "print(\"Tensorflow version (by Google): \", tf.__version__)\n",
    "print(\"MXnet version (by Amazon): \", mx.__version__)"
   ]
  },
  {
   "cell_type": "code",
   "execution_count": 3,
   "metadata": {},
   "outputs": [],
   "source": [
    "import numpy as np"
   ]
  },
  {
   "cell_type": "code",
   "execution_count": 33,
   "metadata": {},
   "outputs": [],
   "source": [
    "import pandas as pd\n",
    "\n",
    "def plot_timing(mx_list, tf_list):\n",
    "    mx_s = pd.Series(mx_list)\n",
    "    tf_s = pd.Series(tf_list)\n",
    "\n",
    "    df = pd.concat([mx_s, tf_s], axis=1)\n",
    "    df = df.rename(columns = {0:\"mxnet\", 1:\"tensorflow\"})\n",
    "    return df.plot()"
   ]
  },
  {
   "cell_type": "code",
   "execution_count": 35,
   "metadata": {},
   "outputs": [],
   "source": [
    "# test if the two samples are significantly different\n",
    "# https://machinelearningmastery.com/statistical-hypothesis-tests-in-python-cheat-sheet/\n",
    "from scipy.stats import ttest_ind\n",
    "\n",
    "def test_independence(mx_list, tf_list):\n",
    "    stat, p = ttest_ind(mx_list, tf_list)\n",
    "    print('stat=%.3f, p=%.3f' % (stat, p))\n",
    "    if p > 0.05:\n",
    "        print('Probably the same distribution')\n",
    "    else:\n",
    "        print('Probably different distributions')"
   ]
  },
  {
   "cell_type": "markdown",
   "metadata": {},
   "source": [
    "# 1. Definition of a Variable\n",
    "Task to Benchmark: Creation of a huge number of variables (e.g. 1000, 10000, etc...)\n",
    "\n",
    "Common to both frameworks: the data type, dimensions and name of the variables"
   ]
  },
  {
   "cell_type": "code",
   "execution_count": 5,
   "metadata": {},
   "outputs": [
    {
     "name": "stdout",
     "output_type": "stream",
     "text": [
      "<Symbol weights>\n",
      "No benchmark for variable definition\n"
     ]
    }
   ],
   "source": [
    "# MXnet\n",
    "'''\n",
    "The Symbol API in Apache MXNet is an interface for symbolic programming. It features the use \n",
    "of computational graphs, reduced memory usage, and pre-use function optimization.\n",
    "\n",
    "mxnet.symbol.Variable\n",
    "(name, attr=None, shape=None, lr_mult=None, wd_mult=None, dtype=None, init=None, stype=None, **kwargs)\n",
    "'''\n",
    "# Tensorflow\n",
    "'''\n",
    "A TensorFlow variable is the best way to represent shared, persistent state manipulated by your program.\n",
    "Variables are manipulated via the tf.Variable class. A tf.Variable represents a tensor whose value can \n",
    "be changed by running ops on it. Specific ops allow you to read and modify the values of this tensor. \n",
    "Higher level libraries like tf.keras use tf.Variable to store model parameters. This guide covers how \n",
    "to create, update, and manage tf.Variables in TensorFlow.\n",
    "\n",
    "tf.Variable(\n",
    "    initial_value=None, <-- not a fair comparison if we initialize also the tensor\n",
    "    trainable=None,\n",
    "    validate_shape=True,\n",
    "    caching_device=None,\n",
    "    name=None,\n",
    "    variable_def=None,\n",
    "    dtype=None,\n",
    "    import_scope=None,\n",
    "    constraint=None,\n",
    "    synchronization=tf.VariableSynchronization.AUTO,\n",
    "    aggregation=tf.compat.v1.VariableAggregation.NONE,\n",
    "    shape=None\n",
    ")\n",
    "Placeholders are more similar to symbols in MXnet because they do not require an initial value\n",
    "dtype: The type of elements in the tensor to be fed.\n",
    "shape: The shape of the tensor to be fed (optional). If the shape is not specified, \n",
    "you can feed a tensor of any shape.\n",
    "name: A name for the operation (optional).\n",
    "tf.compat.v1.placeholder(\n",
    "    dtype,\n",
    "    shape=None,\n",
    "    name=None\n",
    ")\n",
    "'''\n",
    "# Create a variable/symbol without values\n",
    "name_of_variable = \"weights\"\n",
    "w_mx = mx.symbol.Variable(name_of_variable, shape=(1024, 1024), dtype = np.float32)\n",
    "print(w_mx)\n",
    "'''\n",
    "# disable eager execution to use placeholders\n",
    "tf.compat.v1.disable_eager_execution()\n",
    "\n",
    "w_tf = tf.compat.v1.placeholder(tf.float32, name = name_of_variable,  shape=(1024, 1024))\n",
    "print(w_tf)\n",
    "\n",
    "# reenable eager execution\n",
    "tf.compat.v1.enable_eager_execution()\n",
    "'''\n",
    "# there is no point of comparing mxnet with older functions of tf1 that are deprecated in tf2\n",
    "print(\"No benchmark for variable definition\")"
   ]
  },
  {
   "cell_type": "markdown",
   "metadata": {},
   "source": [
    "# 2. Vector Creation\n",
    "Task to Benchmark: Create a huge amount of vectors with the two proprietary library functions of the two frameworks\n",
    "\n",
    "Common to both frameworks: The vectors created (ones, zeros, specific numbers) should be given as numpy array input to both frameworks."
   ]
  },
  {
   "cell_type": "code",
   "execution_count": 25,
   "metadata": {},
   "outputs": [],
   "source": [
    "microbenchmark_seed = 42\n",
    "dimensions = 1000\n",
    "nr_vectors = 50\n",
    "\n",
    "from typing import List\n",
    "\n",
    "# set the seed\n",
    "np.random.seed(microbenchmark_seed)\n",
    "'''\n",
    "# generate a set of vectors in numpy of the same dimensions\n",
    "bag_of_vectors : List[np.ndarray] = []\n",
    "for _ in range(nr_vectors):\n",
    "    bag_of_vectors += [np.random.rand(1, dimensions)]\n",
    "#print(bag_of_vectors)\n",
    "'''\n",
    "\n",
    "# define the two benchmarking functions\n",
    "def mx_vector_creation(bag_of_vectors):\n",
    "    mx_bag_of_vectors : List[mxnet.ndarray] = []\n",
    "    for np_vector in bag_of_vectors:\n",
    "        mx_bag_of_vectors += [mx.nd.array(np_vector, dtype='float32')]\n",
    "    return mx_bag_of_vectors\n",
    "\n",
    "def tf_vector_creation(bag_of_vectors):\n",
    "    tf_bag_of_vectors : List[tf.Tensor] = []\n",
    "    for np_vector in bag_of_vectors:\n",
    "        tf_bag_of_vectors += [tf.convert_to_tensor(np_vector, dtype=tf.float32)]\n",
    "    return tf_bag_of_vectors"
   ]
  },
  {
   "cell_type": "code",
   "execution_count": 32,
   "metadata": {},
   "outputs": [
    {
     "name": "stdout",
     "output_type": "stream",
     "text": [
      "0-1-2-3-4-5-6-7-8-9-10-11-12-13-14-15-16-17-18-19-20-21-22-23-24-25-26-27-28-29-30-31-32-33-34-35-36-37-38-39-40-41-42-43-44-45-46-47-48-49-50-51-52-53-54-55-56-57-58-59-60-61-62-63-64-65-66-67-68-69-70-71-72-73-74-75-76-77-78-79-80-81-82-83-84-85-86-87-88-89-90-91-92-93-94-95-96-97-98-99-100-101-102-103-104-105-106-107-108-109-110-111-112-113-114-115-116-117-118-119-120-121-122-123-124-125-126-127-128-129-130-131-132-133-134-135-136-137-138-139-140-141-142-143-144-145-146-147-148-149-"
     ]
    }
   ],
   "source": [
    "NR_TRIES = 150\n",
    "\n",
    "mx_timing_vector_creation = []\n",
    "tf_timing_vector_creation = []\n",
    "\n",
    "for x in range(NR_TRIES):\n",
    "    print(x, end=\"-\")\n",
    "    np.random.seed(seed=x) \n",
    "    \n",
    "    # generate common random stuff\n",
    "    bag_of_vectors : List[np.ndarray] = []\n",
    "    # ssame bag of vectors to generate\n",
    "    for _ in range(nr_vectors):\n",
    "        bag_of_vectors += [np.random.rand(1, dimensions)]\n",
    "    \n",
    "    # mxnet\n",
    "    start_mx = time.process_time()\n",
    "    mx_vector_creation(bag_of_vectors)\n",
    "    end_mx = time.process_time()\n",
    "    elapsed_mx = end_mx - start_mx\n",
    "    mx_timing_vector_creation += [elapsed_mx]\n",
    "    \n",
    "    # tensorflow\n",
    "    start_tf = time.process_time()\n",
    "    tf_vector_creation(bag_of_vectors)\n",
    "    end_tf = time.process_time()\n",
    "    elapsed_tf = end_tf - start_tf\n",
    "    tf_timing_vector_creation += [elapsed_tf]\n",
    "    \n",
    "    # to verify the equivalence\n",
    "    #assert(np.array_equal(result_matmul, result_tensordot))"
   ]
  },
  {
   "cell_type": "code",
   "execution_count": 36,
   "metadata": {},
   "outputs": [
    {
     "name": "stdout",
     "output_type": "stream",
     "text": [
      "stat=83.663, p=0.000\n",
      "Probably different distributions\n"
     ]
    },
    {
     "data": {
      "image/png": "[encoded data removed]",
      "text/plain": [
       "<Figure size 432x288 with 1 Axes>"
      ]
     },
     "metadata": {
      "needs_background": "light"
     },
     "output_type": "display_data"
    }
   ],
   "source": [
    "plot_timing(mx_timing_vector_creation, tf_timing_vector_creation)\n",
    "test_independence(mx_timing_vector_creation, tf_timing_vector_creation)"
   ]
  },
  {
   "cell_type": "markdown",
   "metadata": {},
   "source": [
    "Result: Tensorflow wins in converting array from numpy\n",
    "\n",
    "Why?: it maybe because they are using an ad hoc function for conversion to tf rater than having the using the constructor as mxnet is doing. The constructor is obviously more intuitive and easy to use, but the ad hoc function has clearly better performance."
   ]
  },
  {
   "cell_type": "markdown",
   "metadata": {},
   "source": [
    "# 3. Activation Function\n",
    "Task to Benchmark: Apply the activation functions to a sequence of vectors of a fixed dimensions\n",
    "\n",
    "Common to both frameworks: the same vectors (created in numpy) are used and the activation functions present in both frameworks are used"
   ]
  },
  {
   "cell_type": "markdown",
   "metadata": {},
   "source": [
    "# 4. Dot Product\n",
    "Task to Benchmark: Do the dot product between a lot of vectors randomly picked from a previously created collection of vectors (same length to allow the dot product). These vectors should be reasonably long (e.g. 10k)\n",
    "\n",
    "Common to both frameworks: The same random bag of vectors is used. This collection is created in its proprietary library function: tensor and ndarray, before benchmarking. The randomly picked vectors are the same.\n",
    "\n",
    "# 5. Matrix Multiplication\n",
    "Task to Benchmark: Multiply a bunch of matrices of different dimensions.\n",
    "\n",
    "Common to both frameworks: The matrices are randomly generated before the benchmark takes place and they are stored in their proprietary format: tensor and ndarray. The randomness is the same in both frameworks. Random generation is handled by numpy.\n",
    "\n",
    "# 6. Flatten vector/tensor\n",
    "Task to Benchmark: Flatten a preconstructed collection (e.g. # elements = 1000)  of multidimensional array.\n",
    "\n",
    "Common to both frameworks: The two collections are created before the benchmark by using the proprietary functions. The two collections are identical. The chosen array are the same for both frameworks.\n",
    "\n",
    "\n",
    "# 7. Normalize vector/tensor\n",
    "Task to Benchmark: Normalize a preconstructed collection (e.g. # elements = 1000) of multidimensional array.\n",
    "\n",
    "Common to both frameworks: The two collections are created before the benchmark by using the proprietary functions. The two collections are identical. The chosen array are the same for both frameworks."
   ]
  },
  {
   "cell_type": "code",
   "execution_count": null,
   "metadata": {},
   "outputs": [],
   "source": []
  }
 ],
 "metadata": {
  "kernelspec": {
   "display_name": "Python 3",
   "language": "python",
   "name": "python3"
  },
  "language_info": {
   "codemirror_mode": {
    "name": "ipython",
    "version": 3
   },
   "file_extension": ".py",
   "mimetype": "text/x-python",
   "name": "python",
   "nbconvert_exporter": "python",
   "pygments_lexer": "ipython3",
   "version": "3.7.6"
  }
 },
 "nbformat": 4,
 "nbformat_minor": 2
}
