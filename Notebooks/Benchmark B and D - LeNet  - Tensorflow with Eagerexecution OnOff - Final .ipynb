{
 "cells": [
  {
   "cell_type": "code",
   "execution_count": 1,
   "metadata": {},
   "outputs": [
    {
     "name": "stdout",
     "output_type": "stream",
     "text": [
      "OS:  linux\n",
      "Python:  3.7.5 (default, Oct 27 2019, 15:43:29) \n",
      "[GCC 9.2.1 20191022]\n",
      "Tensorflow version (by Google):  2.0.0\n"
     ]
    }
   ],
   "source": [
    "import os\n",
    "import sys\n",
    "import numpy as np\n",
    "import gzip\n",
    "import pandas as pd\n",
    "from time import time\n",
    "print(\"OS: \", sys.platform)\n",
    "print(\"Python: \", sys.version)\n",
    "\n",
    "from sklearn.model_selection import train_test_split\n",
    "import tensorflow as tf\n",
    "import tensorflow.keras as keras\n",
    "import tensorflow.keras.layers as layers\n",
    "from tensorflow.keras.models import Sequential\n",
    "from tensorflow.keras.preprocessing.image import ImageDataGenerator\n",
    "from tensorflow.keras.utils import to_categorical\n",
    "print(\"Tensorflow version (by Google): \", tf.__version__)\n",
    "\n",
    "# uncomment in order to disable_eager_execution()"
   ]
  },
  {
   "cell_type": "code",
   "execution_count": 2,
   "metadata": {},
   "outputs": [],
   "source": [
    "import random\n",
    "np.random.seed(42)\n",
    "random.seed(42)\n",
    "tf.random.set_seed(42)"
   ]
  },
  {
   "cell_type": "code",
   "execution_count": 3,
   "metadata": {},
   "outputs": [],
   "source": [
    "# Read Data\n",
    "\n",
    "def read_mnist(images_path: str, labels_path: str):\n",
    "    #mnist_path = \"data/mnist/\"\n",
    "    #images_path = mnist_path + images_path\n",
    "    print(images_path)\n",
    "    with gzip.open(labels_path, 'rb') as labelsFile:\n",
    "        labels = np.frombuffer(labelsFile.read(), dtype=np.uint8, offset=8)\n",
    "\n",
    "    with gzip.open(images_path,'rb') as imagesFile:\n",
    "        length = len(labels)\n",
    "        # Load flat 28x28 px images (784 px), and convert them to 28x28 px\n",
    "        features = np.frombuffer(imagesFile.read(), dtype=np.uint8, offset=16) \\\n",
    "                        .reshape(length, 784) \\\n",
    "                        .reshape(length, 28, 28, 1)\n",
    "    return features, labels"
   ]
  },
  {
   "cell_type": "code",
   "execution_count": 4,
   "metadata": {},
   "outputs": [
    {
     "name": "stdout",
     "output_type": "stream",
     "text": [
      "train-images-idx3-ubyte.gz\n",
      "t10k-images-idx3-ubyte.gz\n",
      "10000 -> # of test images.\n",
      "60000 -> # of training images (train + validation).\n",
      "     48000 -> # of (actual) training images.\n",
      "     12000 -> # of validation images.\n"
     ]
    }
   ],
   "source": [
    "# LOAD TRAIN AND TEST ALREADY SPLIT\n",
    "train = {}\n",
    "test = {}\n",
    "train['features'], train['labels'] = read_mnist('train-images-idx3-ubyte.gz', 'train-labels-idx1-ubyte.gz')\n",
    "test['features'], test['labels'] = read_mnist('t10k-images-idx3-ubyte.gz', 't10k-labels-idx1-ubyte.gz')\n",
    "print(test['features'].shape[0], '-> # of test images.')\n",
    "print(train['features'].shape[0], '-> # of training images (train + validation).')\n",
    "# CREATE TRAIN AND VALIDATION SPLIT\n",
    "validation = {}\n",
    "train['features'], validation['features'], train['labels'], validation['labels'] = train_test_split(train['features'], train['labels'], test_size=0.2, random_state=0)\n",
    "print(\"    \", train['features'].shape[0], '-> # of (actual) training images.')\n",
    "print(\"    \", validation['features'].shape[0], '-> # of validation images.')"
   ]
  },
  {
   "cell_type": "code",
   "execution_count": 5,
   "metadata": {},
   "outputs": [
    {
     "data": {
      "text/plain": [
       "(48000, 28, 28, 1)"
      ]
     },
     "execution_count": 5,
     "metadata": {},
     "output_type": "execute_result"
    }
   ],
   "source": [
    "# GENERAL PARAMETERS\n",
    "EPOCHS = 15\n",
    "BATCH_SIZE = 200\n",
    "\n",
    "# convert in multiple output for tensorflow\n",
    "X_train_tf, y_train_tf = train['features'], to_categorical(train['labels'])\n",
    "X_validation_tf, y_validation_tf = validation['features'], to_categorical(validation['labels'])\n",
    "# create data generator\n",
    "train_generator_tf = ImageDataGenerator().flow(X_train_tf, y_train_tf, batch_size=BATCH_SIZE)\n",
    "validation_generator_tf = ImageDataGenerator().flow(X_validation_tf, y_validation_tf, batch_size=BATCH_SIZE)\n",
    "\n",
    "X_train_tf.shape"
   ]
  },
  {
   "cell_type": "code",
   "execution_count": 6,
   "metadata": {},
   "outputs": [
    {
     "name": "stdout",
     "output_type": "stream",
     "text": [
      "Model: \"sequential\"\n",
      "_________________________________________________________________\n",
      "Layer (type)                 Output Shape              Param #   \n",
      "=================================================================\n",
      "conv2d (Conv2D)              (None, 24, 24, 6)         156       \n",
      "_________________________________________________________________\n",
      "average_pooling2d (AveragePo (None, 12, 12, 6)         0         \n",
      "_________________________________________________________________\n",
      "conv2d_1 (Conv2D)            (None, 10, 10, 16)        880       \n",
      "_________________________________________________________________\n",
      "average_pooling2d_1 (Average (None, 5, 5, 16)          0         \n",
      "_________________________________________________________________\n",
      "flatten (Flatten)            (None, 400)               0         \n",
      "_________________________________________________________________\n",
      "dense (Dense)                (None, 120)               48120     \n",
      "_________________________________________________________________\n",
      "dense_1 (Dense)              (None, 84)                10164     \n",
      "_________________________________________________________________\n",
      "dense_2 (Dense)              (None, 10)                850       \n",
      "=================================================================\n",
      "Total params: 60,170\n",
      "Trainable params: 60,170\n",
      "Non-trainable params: 0\n",
      "_________________________________________________________________\n"
     ]
    }
   ],
   "source": [
    "# Create model, IDENTICAL TO LeNet paper: http://yann.lecun.com/exdb/publis/pdf/lecun-01a.pdf \n",
    "model_tf = keras.Sequential()\n",
    "init_tf = tf.keras.initializers.GlorotNormal(seed=1)\n",
    "model_tf.add(layers.Conv2D(filters=6, kernel_size=(5, 5), activation='relu', input_shape=(28,28,1), kernel_initializer = init_tf, bias_initializer = init_tf))\n",
    "model_tf.add(layers.AveragePooling2D(pool_size=(2, 2), strides=2))\n",
    "model_tf.add(layers.Conv2D(filters=16, kernel_size=(3, 3), activation='relu', kernel_initializer = init_tf, bias_initializer = init_tf))\n",
    "model_tf.add(layers.AveragePooling2D(pool_size=(2, 2), strides=2))\n",
    "model_tf.add(layers.Flatten())\n",
    "model_tf.add(layers.Dense(units=120, activation='relu', kernel_initializer = init_tf, bias_initializer = init_tf))\n",
    "model_tf.add(layers.Dense(units=84, activation='relu', kernel_initializer = init_tf, bias_initializer = init_tf))\n",
    "model_tf.add(layers.Dense(units=10, activation = 'softmax', kernel_initializer = init_tf, bias_initializer = init_tf))\n",
    "#model.summary()\n",
    "model_tf.summary()"
   ]
  },
  {
   "cell_type": "code",
   "execution_count": 7,
   "metadata": {},
   "outputs": [
    {
     "name": "stdout",
     "output_type": "stream",
     "text": [
      "Train for 240 steps, validate for 60 steps\n",
      "Epoch 1/15\n",
      "240/240 [==============================] - 82s 342ms/step - loss: 0.7786 - accuracy: 0.8639 - val_loss: 0.1247 - val_accuracy: 0.9613\n",
      "Epoch 2/15\n",
      "240/240 [==============================] - 70s 292ms/step - loss: 0.0926 - accuracy: 0.9718 - val_loss: 0.0806 - val_accuracy: 0.9743\n",
      "Epoch 3/15\n",
      "240/240 [==============================] - 69s 289ms/step - loss: 0.0635 - accuracy: 0.9801 - val_loss: 0.0659 - val_accuracy: 0.9797\n",
      "Epoch 4/15\n",
      "240/240 [==============================] - 73s 305ms/step - loss: 0.0486 - accuracy: 0.9845 - val_loss: 0.0654 - val_accuracy: 0.9791\n",
      "Epoch 5/15\n",
      "240/240 [==============================] - 88s 365ms/step - loss: 0.0404 - accuracy: 0.9871 - val_loss: 0.0535 - val_accuracy: 0.9825\n",
      "Epoch 6/15\n",
      "240/240 [==============================] - 80s 334ms/step - loss: 0.0337 - accuracy: 0.9893 - val_loss: 0.0555 - val_accuracy: 0.9826\n",
      "Epoch 7/15\n",
      "240/240 [==============================] - 82s 340ms/step - loss: 0.0290 - accuracy: 0.9911 - val_loss: 0.0606 - val_accuracy: 0.9820\n",
      "Epoch 8/15\n",
      "240/240 [==============================] - 77s 322ms/step - loss: 0.0227 - accuracy: 0.9926 - val_loss: 0.0525 - val_accuracy: 0.9846\n",
      "Epoch 9/15\n",
      "240/240 [==============================] - 83s 344ms/step - loss: 0.0227 - accuracy: 0.9926 - val_loss: 0.0528 - val_accuracy: 0.9843\n",
      "Epoch 10/15\n",
      "240/240 [==============================] - 77s 323ms/step - loss: 0.0192 - accuracy: 0.9937 - val_loss: 0.0785 - val_accuracy: 0.9793\n",
      "Epoch 11/15\n",
      "240/240 [==============================] - 76s 317ms/step - loss: 0.0180 - accuracy: 0.9941 - val_loss: 0.0539 - val_accuracy: 0.9844\n",
      "Epoch 12/15\n",
      "240/240 [==============================] - 83s 347ms/step - loss: 0.0179 - accuracy: 0.9941 - val_loss: 0.0521 - val_accuracy: 0.9863\n",
      "Epoch 13/15\n",
      "240/240 [==============================] - 86s 359ms/step - loss: 0.0146 - accuracy: 0.9951 - val_loss: 0.0527 - val_accuracy: 0.9868\n",
      "Epoch 14/15\n",
      "240/240 [==============================] - 86s 360ms/step - loss: 0.0139 - accuracy: 0.9951 - val_loss: 0.0489 - val_accuracy: 0.9876\n",
      "Epoch 15/15\n",
      "240/240 [==============================] - 92s 385ms/step - loss: 0.0120 - accuracy: 0.9959 - val_loss: 0.0522 - val_accuracy: 0.9861\n"
     ]
    },
    {
     "data": {
      "text/plain": [
       "<tensorflow.python.keras.callbacks.History at 0x7f723072e850>"
      ]
     },
     "execution_count": 7,
     "metadata": {},
     "output_type": "execute_result"
    }
   ],
   "source": [
    "# TRain Model\n",
    "chosen_tf_optimizer = keras.optimizers.Adam(learning_rate=0.001, beta_1=0.9, beta_2=0.999, amsgrad=False)\n",
    "model_tf.compile(loss=keras.losses.categorical_crossentropy, optimizer=chosen_tf_optimizer, metrics=['accuracy'])\n",
    "steps_per_epoch = X_train_tf.shape[0]//BATCH_SIZE\n",
    "validation_steps = X_validation_tf.shape[0]//BATCH_SIZE\n",
    "model_tf.fit(train_generator_tf, steps_per_epoch=steps_per_epoch, epochs=EPOCHS, \n",
    "                    validation_data=validation_generator_tf, validation_steps=validation_steps, \n",
    "                    shuffle=True, callbacks=[])"
   ]
  },
  {
   "cell_type": "code",
   "execution_count": 8,
   "metadata": {},
   "outputs": [
    {
     "name": "stdout",
     "output_type": "stream",
     "text": [
      "TensorFlow - Test accuracy: 0.9873\n"
     ]
    }
   ],
   "source": [
    "# Model EValuation\n",
    "score = model_tf.evaluate(test['features'], to_categorical(test['labels']), verbose=0)\n",
    "#print('Test loss:', score[0])\n",
    "print('TensorFlow - Test accuracy:', score[1])\n",
    "assert score[1] > 0.90"
   ]
  },
  {
   "cell_type": "code",
   "execution_count": null,
   "metadata": {},
   "outputs": [],
   "source": []
  }
 ],
 "metadata": {
  "kernelspec": {
   "display_name": "Python 3",
   "language": "python",
   "name": "python3"
  },
  "language_info": {
   "codemirror_mode": {
    "name": "ipython",
    "version": 3
   },
   "file_extension": ".py",
   "mimetype": "text/x-python",
   "name": "python",
   "nbconvert_exporter": "python",
   "pygments_lexer": "ipython3",
   "version": "3.7.5"
  }
 },
 "nbformat": 4,
 "nbformat_minor": 2
}
