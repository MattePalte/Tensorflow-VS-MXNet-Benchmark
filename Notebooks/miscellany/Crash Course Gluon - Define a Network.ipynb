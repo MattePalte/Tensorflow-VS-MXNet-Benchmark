{
 "cells": [
  {
   "cell_type": "code",
   "execution_count": 2,
   "metadata": {},
   "outputs": [
    {
     "name": "stdout",
     "output_type": "stream",
     "text": [
      "MXNet version 1.5.1\n"
     ]
    }
   ],
   "source": [
    "# IMPORT LIBRARIES\n",
    "import mxnet\n",
    "from mxnet import nd\n",
    "print(\"MXNet version\", mxnet.__version__) # Matteo 1.5.1"
   ]
  },
  {
   "cell_type": "code",
   "execution_count": 6,
   "metadata": {},
   "outputs": [
    {
     "name": "stdout",
     "output_type": "stream",
     "text": [
      "(2, 3) 6 <class 'numpy.float32'>\n"
     ]
    },
    {
     "data": {
      "text/plain": [
       "\n",
       "[[1. 2. 3.]\n",
       " [5. 6. 7.]]\n",
       "<NDArray 2x3 @cpu(0)>"
      ]
     },
     "execution_count": 6,
     "metadata": {},
     "output_type": "execute_result"
    }
   ],
   "source": [
    "# CREATE AN NDARRAY (MXNET)\n",
    "x = nd.array(((1,2,3),(5,6,7))) # CRETE AN ARRAY\n",
    "# ACCESS DIMENSIONS\n",
    "print(x.shape, x.size, x.dtype)\n",
    "# INITIALIZAD WITH GAUSS(0,1)\n",
    "y = nd.random.uniform(-1,1,(2,3))\n",
    "x"
   ]
  },
  {
   "cell_type": "code",
   "execution_count": 19,
   "metadata": {},
   "outputs": [
    {
     "name": "stdout",
     "output_type": "stream",
     "text": [
      "\n",
      "[32.]\n",
      "<NDArray 1 @cpu(0)> \n",
      "[32.]\n",
      "<NDArray 1 @cpu(0)>\n"
     ]
    }
   ],
   "source": [
    "# DOT-PRODUCT or ELEMENT WISE MULTIPLICATION FOLLOWED BY SUM\n",
    "vector_x = nd.array((1,2,3))\n",
    "vector_y = nd.array((4,5,6))\n",
    "option_1 = nd.dot(vector_x, vector_y.T)\n",
    "option_2 = nd.sum(vector_x * vector_y)\n",
    "print(option_1, option_2)"
   ]
  },
  {
   "cell_type": "code",
   "execution_count": 21,
   "metadata": {},
   "outputs": [
    {
     "data": {
      "text/plain": [
       "\n",
       "[1.]\n",
       "<NDArray 1 @cpu(0)>"
      ]
     },
     "execution_count": 21,
     "metadata": {},
     "output_type": "execute_result"
    }
   ],
   "source": [
    "# COMPARE TWO ARRAY\n",
    "nd.equal(option_1, option_2)\n",
    "option_1 == option_2"
   ]
  },
  {
   "cell_type": "code",
   "execution_count": 22,
   "metadata": {},
   "outputs": [
    {
     "data": {
      "text/plain": [
       "(numpy.ndarray, array([[1., 2., 3.],\n",
       "        [5., 6., 7.]], dtype=float32))"
      ]
     },
     "execution_count": 22,
     "metadata": {},
     "output_type": "execute_result"
    }
   ],
   "source": [
    "# CONVERSION TO (CLASSICAL) NUMPY\n",
    "a = x.asnumpy()\n",
    "(type(a), a)"
   ]
  },
  {
   "cell_type": "code",
   "execution_count": 24,
   "metadata": {},
   "outputs": [],
   "source": [
    "# CREATE FIRST NEURAL NETWORK\n",
    "from mxnet.gluon import nn"
   ]
  },
  {
   "cell_type": "code",
   "execution_count": 26,
   "metadata": {},
   "outputs": [
    {
     "data": {
      "text/plain": [
       "Dense(None -> 2, linear)"
      ]
     },
     "execution_count": 26,
     "metadata": {},
     "output_type": "execute_result"
    }
   ],
   "source": [
    "# CREATE MY FIRST LAYER\n",
    "layer = nn.Dense(2) # 2 neurons FULLY-CONNECTED\n",
    "layer"
   ]
  },
  {
   "cell_type": "markdown",
   "metadata": {},
   "source": [
    "https://mxnet.incubator.apache.org/api/python/docs/api/gluon/nn/index.html#mxnet.gluon.nn.Dense"
   ]
  },
  {
   "cell_type": "code",
   "execution_count": 27,
   "metadata": {},
   "outputs": [],
   "source": [
    "# INITIALIZE IT\n",
    "layer.initialize()"
   ]
  },
  {
   "cell_type": "code",
   "execution_count": 28,
   "metadata": {},
   "outputs": [
    {
     "data": {
      "text/plain": [
       "\n",
       "[[ 0.0009278  -0.00674768]\n",
       " [-0.02683341  0.00671751]\n",
       " [ 0.00798804  0.02131375]]\n",
       "<NDArray 3x2 @cpu(0)>"
      ]
     },
     "execution_count": 28,
     "metadata": {},
     "output_type": "execute_result"
    }
   ],
   "source": [
    "# FEED SOME INPUT DATA (NO DIMENSION)\n",
    "input_datapoint_for_single_layer = nd.random.uniform(-1,1,(3,4)) # input matrix 3x4 from UNIFORM(-1,1))\n",
    "output_of_this_layer = layer(input_datapoint_for_single_layer)\n",
    "output_of_this_layer"
   ]
  },
  {
   "cell_type": "markdown",
   "metadata": {},
   "source": [
    "NOTE: we didn’t specify the input size of layer before (though we can specify it with the argument in_units=4 here), <b>the system will automatically infer it during the first time we feed in data</b>, create and initialize the weights."
   ]
  },
  {
   "cell_type": "code",
   "execution_count": 29,
   "metadata": {},
   "outputs": [
    {
     "data": {
      "text/plain": [
       "\n",
       "[[-0.01631819 -0.00312688  0.0408415   0.04370362]\n",
       " [ 0.00404529 -0.0028032   0.00952624 -0.01501013]]\n",
       "<NDArray 2x4 @cpu(0)>"
      ]
     },
     "execution_count": 29,
     "metadata": {},
     "output_type": "execute_result"
    }
   ],
   "source": [
    "# NOW (AFTER FIRST PASS) WE CAN ACCESS WEIGHTS\n",
    "layer.weight.data()"
   ]
  },
  {
   "cell_type": "code",
   "execution_count": 32,
   "metadata": {},
   "outputs": [
    {
     "data": {
      "text/plain": [
       "Sequential(\n",
       "  (0): Conv2D(None -> 6, kernel_size=(5, 5), stride=(1, 1), Activation(relu))\n",
       "  (1): MaxPool2D(size=(2, 2), stride=(2, 2), padding=(0, 0), ceil_mode=False, global_pool=False, pool_type=max, layout=NCHW)\n",
       "  (2): Conv2D(None -> 16, kernel_size=(3, 3), stride=(1, 1), Activation(relu))\n",
       "  (3): MaxPool2D(size=(2, 2), stride=(2, 2), padding=(0, 0), ceil_mode=False, global_pool=False, pool_type=max, layout=NCHW)\n",
       "  (4): Dense(None -> 120, Activation(relu))\n",
       "  (5): Dense(None -> 84, Activation(relu))\n",
       "  (6): Dense(None -> 10, linear)\n",
       ")"
      ]
     },
     "execution_count": 32,
     "metadata": {},
     "output_type": "execute_result"
    }
   ],
   "source": [
    "# START WITH DEEP LEARNING -> CREATE A DEEP LEARNING NETWORK\n",
    "first_net = nn.Sequential()\n",
    "# Add a sequence of layers.\n",
    "first_net.add(# Similar to Dense, it is not necessary to specify the input channels\n",
    "        # by the argument `in_channels`, which will be  automatically inferred\n",
    "        # in the first forward pass. Also, we apply a relu activation on the\n",
    "        # output. In addition, we can use a tuple to specify a  non-square\n",
    "        # kernel size, such as `kernel_size=(2,4)`\n",
    "        nn.Conv2D(channels=6, kernel_size=5, activation='relu'),\n",
    "        # One can also use a tuple to specify non-symmetric pool and stride sizes\n",
    "        nn.MaxPool2D(pool_size=2, strides=2),\n",
    "        nn.Conv2D(channels=16, kernel_size=3, activation='relu'),\n",
    "        nn.MaxPool2D(pool_size=2, strides=2),\n",
    "        # The dense layer will automatically reshape the 4-D output of last\n",
    "        # max pooling layer into the 2-D shape: (x.shape[0], x.size/x.shape[0])\n",
    "        nn.Dense(120, activation=\"relu\"),\n",
    "        nn.Dense(84, activation=\"relu\"),\n",
    "        nn.Dense(10))\n",
    "# INSPECT THE RESULT\n",
    "first_net"
   ]
  },
  {
   "cell_type": "code",
   "execution_count": 33,
   "metadata": {},
   "outputs": [
    {
     "name": "stdout",
     "output_type": "stream",
     "text": [
      "\n",
      "[[[[0.92559665 0.83607876 0.07103606 ... 0.5820198  0.14335328\n",
      "    0.53737324]\n",
      "   [0.9446689  0.7586156  0.5218483  ... 0.44994998 0.3595079\n",
      "    0.61306345]\n",
      "   [0.43703195 0.9023486  0.6976312  ... 0.93553907 0.53881675\n",
      "    0.8463109 ]\n",
      "   ...\n",
      "   [0.8052232  0.01178803 0.52164716 ... 0.7137619  0.10873607\n",
      "    0.51789856]\n",
      "   [0.89390415 0.7853887  0.85715425 ... 0.86400425 0.08395315\n",
      "    0.15514489]\n",
      "   [0.71272594 0.77483064 0.5995434  ... 0.29543683 0.03342143\n",
      "    0.08252441]]]\n",
      "\n",
      "\n",
      " [[[0.95694935 0.7259542  0.13720933 ... 0.56314117 0.0208098\n",
      "    0.80126536]\n",
      "   [0.13521017 0.94317764 0.11627302 ... 0.89298266 0.9657492\n",
      "    0.17915347]\n",
      "   [0.9726011  0.758584   0.45344925 ... 0.53057545 0.3475812\n",
      "    0.9932467 ]\n",
      "   ...\n",
      "   [0.1671392  0.09982012 0.39244246 ... 0.39494097 0.28793445\n",
      "    0.47957394]\n",
      "   [0.8224663  0.39094034 0.62618303 ... 0.2944338  0.69951206\n",
      "    0.05285462]\n",
      "   [0.9998673  0.31748822 0.22006729 ... 0.7388402  0.24729377\n",
      "    0.27477896]]]\n",
      "\n",
      "\n",
      " [[[0.6718066  0.48458487 0.56172913 ... 0.93486047 0.22768326\n",
      "    0.10894234]\n",
      "   [0.48603186 0.18826026 0.8072193  ... 0.94650644 0.11304071\n",
      "    0.01872991]\n",
      "   [0.44703084 0.5319397  0.5854451  ... 0.8496765  0.5590533\n",
      "    0.31132808]\n",
      "   ...\n",
      "   [0.3036373  0.71284866 0.9890636  ... 0.28565636 0.8747221\n",
      "    0.98114514]\n",
      "   [0.5335943  0.40014723 0.08441275 ... 0.80533344 0.03256092\n",
      "    0.91054136]\n",
      "   [0.94723207 0.7505816  0.9043183  ... 0.24126098 0.4517692\n",
      "    0.591584  ]]]\n",
      "\n",
      "\n",
      " [[[0.5926848  0.6942121  0.3270121  ... 0.85817873 0.684224\n",
      "    0.06693956]\n",
      "   [0.10343756 0.6246591  0.74547577 ... 0.67288035 0.92926204\n",
      "    0.82645303]\n",
      "   [0.05122983 0.23912509 0.13481198 ... 0.8970098  0.85970783\n",
      "    0.91316545]\n",
      "   ...\n",
      "   [0.74726486 0.36507028 0.00523796 ... 0.69377685 0.29897636\n",
      "    0.10821174]\n",
      "   [0.79203427 0.9633315  0.3244706  ... 0.9302472  0.4544278\n",
      "    0.6515641 ]\n",
      "   [0.18712777 0.51501316 0.4088352  ... 0.1428281  0.6793248\n",
      "    0.54365677]]]]\n",
      "<NDArray 4x1x28x28 @cpu(0)>\n"
     ]
    }
   ],
   "source": [
    "# LET's USE our NETWORK -> PREPARE AN INPUT\n",
    "first_net.initialize()\n",
    "# Input shape is (batch_size, color_channels, height, width)\n",
    "input_datapoint_for_NN = nd.random.uniform(shape=(4,1,28,28))\n",
    "# uniformly sampled form GAUS(0,1)\n",
    "print(input_datapoint_for_NN)"
   ]
  },
  {
   "cell_type": "code",
   "execution_count": 36,
   "metadata": {},
   "outputs": [
    {
     "data": {
      "text/plain": [
       "(4, 10)"
      ]
     },
     "execution_count": 36,
     "metadata": {},
     "output_type": "execute_result"
    }
   ],
   "source": [
    "# FIRE! (FEED INPUT)\n",
    "output_of_first_NN = first_net(input_datapoint_for_NN)\n",
    "# THE OUTPUT WIL HAVE (batch_size, nr_output_layer_neurons)\n",
    "output_of_first_NN.shape"
   ]
  },
  {
   "cell_type": "code",
   "execution_count": 37,
   "metadata": {},
   "outputs": [
    {
     "data": {
      "text/plain": [
       "((6, 1, 5, 5), (84,))"
      ]
     },
     "execution_count": 37,
     "metadata": {},
     "output_type": "execute_result"
    }
   ],
   "source": [
    "# ACCESS A PARTICULAR BIAS AND WEIGHT\n",
    "(first_net[0].weight.data().shape, first_net[5].bias.data().shape)"
   ]
  },
  {
   "cell_type": "code",
   "execution_count": 38,
   "metadata": {},
   "outputs": [
    {
     "data": {
      "text/plain": [
       "MixMLP(\n",
       "  (blk): Sequential(\n",
       "    (0): Dense(None -> 3, Activation(relu))\n",
       "    (1): Dense(None -> 4, Activation(relu))\n",
       "  )\n",
       "  (dense): Dense(None -> 5, linear)\n",
       ")"
      ]
     },
     "execution_count": 38,
     "metadata": {},
     "output_type": "execute_result"
    }
   ],
   "source": [
    "# PERSONALIzED LAYERS\n",
    "class MixMLP(nn.Block):\n",
    "    def __init__(self, **kwargs):\n",
    "        # Run `nn.Block`'s init method\n",
    "        super(MixMLP, self).__init__(**kwargs)\n",
    "        # CERATE AN INTERNAL BLOCK (THAT IS AN ENTIRE NETWORK ITSELF)\n",
    "        self.blk = nn.Sequential()\n",
    "        self.blk.add(nn.Dense(3, activation='relu'),\n",
    "                     nn.Dense(4, activation='relu'))\n",
    "        self.dense = nn.Dense(5)\n",
    "        \n",
    "    def forward(self, x):\n",
    "        y = nd.relu(self.blk(x))\n",
    "        print(y) # PRINT INTERMEDIATE RESULT\n",
    "        return self.dense(y)\n",
    "\n",
    "personalized_net = MixMLP()\n",
    "personalized_net"
   ]
  },
  {
   "cell_type": "markdown",
   "metadata": {},
   "source": [
    "https://mxnet.apache.org/api/python/docs/tutorials/getting-started/crash-course/2-nn.html"
   ]
  },
  {
   "cell_type": "code",
   "execution_count": 39,
   "metadata": {},
   "outputs": [
    {
     "name": "stdout",
     "output_type": "stream",
     "text": [
      "\n",
      "[[0. 0. 0. 0.]\n",
      " [0. 0. 0. 0.]]\n",
      "<NDArray 2x4 @cpu(0)>\n"
     ]
    },
    {
     "data": {
      "text/plain": [
       "\n",
       "[[0. 0. 0. 0. 0.]\n",
       " [0. 0. 0. 0. 0.]]\n",
       "<NDArray 2x5 @cpu(0)>"
      ]
     },
     "execution_count": 39,
     "metadata": {},
     "output_type": "execute_result"
    }
   ],
   "source": [
    "personalized_net.initialize()\n",
    "input_dataoint_for_personalized_net = nd.random.uniform(shape=(2,2))\n",
    "personalized_net(input_dataoint_for_personalized_net)"
   ]
  },
  {
   "cell_type": "code",
   "execution_count": 41,
   "metadata": {},
   "outputs": [
    {
     "data": {
      "text/plain": [
       "\n",
       "[[-0.02634858  0.05334064  0.02748809]\n",
       " [ 0.06669661 -0.01711474  0.01647211]\n",
       " [-0.04485548  0.00594983 -0.06654498]\n",
       " [ 0.04964591 -0.06058505  0.03413684]]\n",
       "<NDArray 4x3 @cpu(0)>"
      ]
     },
     "execution_count": 41,
     "metadata": {},
     "output_type": "execute_result"
    }
   ],
   "source": [
    "personalized_net.blk[1].weight.data()"
   ]
  },
  {
   "cell_type": "code",
   "execution_count": null,
   "metadata": {},
   "outputs": [],
   "source": []
  }
 ],
 "metadata": {
  "kernelspec": {
   "display_name": "Python 3",
   "language": "python",
   "name": "python3"
  },
  "language_info": {
   "codemirror_mode": {
    "name": "ipython",
    "version": 3
   },
   "file_extension": ".py",
   "mimetype": "text/x-python",
   "name": "python",
   "nbconvert_exporter": "python",
   "pygments_lexer": "ipython3",
   "version": "3.6.6"
  }
 },
 "nbformat": 4,
 "nbformat_minor": 2
}
