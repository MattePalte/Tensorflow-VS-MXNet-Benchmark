{
 "cells": [
  {
   "cell_type": "code",
   "execution_count": 1,
   "metadata": {
    "collapsed": true
   },
   "outputs": [],
   "source": [
    "import mxnet as mx"
   ]
  },
  {
   "cell_type": "code",
   "execution_count": 2,
   "metadata": {
    "collapsed": true
   },
   "outputs": [],
   "source": [
    "from mxnet import gluon"
   ]
  },
  {
   "cell_type": "code",
   "execution_count": 3,
   "metadata": {},
   "outputs": [
    {
     "name": "stdout",
     "output_type": "stream",
     "text": [
      "Downloading C:\\Users\\Matteo\\AppData\\Roaming\\mxnet\\datasets\\fashion-mnist\\train-images-idx3-ubyte.gz from https://apache-mxnet.s3-accelerate.dualstack.amazonaws.com/gluon/dataset/fashion-mnist/train-images-idx3-ubyte.gz...\n",
      "Downloading C:\\Users\\Matteo\\AppData\\Roaming\\mxnet\\datasets\\fashion-mnist\\train-labels-idx1-ubyte.gz from https://apache-mxnet.s3-accelerate.dualstack.amazonaws.com/gluon/dataset/fashion-mnist/train-labels-idx1-ubyte.gz...\n"
     ]
    }
   ],
   "source": [
    "# Get the training data\n",
    "fashion_mnist_train = gluon.data.vision.FashionMNIST(train=True)"
   ]
  },
  {
   "cell_type": "code",
   "execution_count": 6,
   "metadata": {},
   "outputs": [
    {
     "name": "stdout",
     "output_type": "stream",
     "text": [
      "Help on FashionMNIST in module mxnet.gluon.data.vision.datasets object:\n",
      "\n",
      "class FashionMNIST(MNIST)\n",
      " |  A dataset of Zalando's article images consisting of fashion products,\n",
      " |  a drop-in replacement of the original MNIST dataset from\n",
      " |  https://github.com/zalandoresearch/fashion-mnist\n",
      " |  \n",
      " |  Each sample is an image (in 3D NDArray) with shape (28, 28, 1).\n",
      " |  \n",
      " |  Parameters\n",
      " |  ----------\n",
      " |  root : str, default $MXNET_HOME/datasets/fashion-mnist'\n",
      " |      Path to temp folder for storing data.\n",
      " |  train : bool, default True\n",
      " |      Whether to load the training or testing set.\n",
      " |  transform : function, default None\n",
      " |      A user defined callback that transforms each sample. For example::\n",
      " |  \n",
      " |          transform=lambda data, label: (data.astype(np.float32)/255, label)\n",
      " |  \n",
      " |  Method resolution order:\n",
      " |      FashionMNIST\n",
      " |      MNIST\n",
      " |      mxnet.gluon.data.dataset._DownloadedDataset\n",
      " |      mxnet.gluon.data.dataset.Dataset\n",
      " |      builtins.object\n",
      " |  \n",
      " |  Methods defined here:\n",
      " |  \n",
      " |  __init__(self, root='C:\\\\Users\\\\Matteo\\\\AppData\\\\Roaming\\\\mxnet\\\\datasets\\\\fashion-mnist', train=True, transform=None)\n",
      " |      Initialize self.  See help(type(self)) for accurate signature.\n",
      " |  \n",
      " |  ----------------------------------------------------------------------\n",
      " |  Methods inherited from mxnet.gluon.data.dataset._DownloadedDataset:\n",
      " |  \n",
      " |  __getitem__(self, idx)\n",
      " |  \n",
      " |  __len__(self)\n",
      " |  \n",
      " |  ----------------------------------------------------------------------\n",
      " |  Methods inherited from mxnet.gluon.data.dataset.Dataset:\n",
      " |  \n",
      " |  transform(self, fn, lazy=True)\n",
      " |      Returns a new dataset with each sample transformed by the\n",
      " |      transformer function `fn`.\n",
      " |      \n",
      " |      Parameters\n",
      " |      ----------\n",
      " |      fn : callable\n",
      " |          A transformer function that takes a sample as input and\n",
      " |          returns the transformed sample.\n",
      " |      lazy : bool, default True\n",
      " |          If False, transforms all samples at once. Otherwise,\n",
      " |          transforms each sample on demand. Note that if `fn`\n",
      " |          is stochastic, you must set lazy to True or you will\n",
      " |          get the same result on all epochs.\n",
      " |      \n",
      " |      Returns\n",
      " |      -------\n",
      " |      Dataset\n",
      " |          The transformed dataset.\n",
      " |  \n",
      " |  transform_first(self, fn, lazy=True)\n",
      " |      Returns a new dataset with the first element of each sample\n",
      " |      transformed by the transformer function `fn`.\n",
      " |      \n",
      " |      This is useful, for example, when you only want to transform data\n",
      " |      while keeping label as is.\n",
      " |      \n",
      " |      Parameters\n",
      " |      ----------\n",
      " |      fn : callable\n",
      " |          A transformer function that takes the first elemtn of a sample\n",
      " |          as input and returns the transformed element.\n",
      " |      lazy : bool, default True\n",
      " |          If False, transforms all samples at once. Otherwise,\n",
      " |          transforms each sample on demand. Note that if `fn`\n",
      " |          is stochastic, you must set lazy to True or you will\n",
      " |          get the same result on all epochs.\n",
      " |      \n",
      " |      Returns\n",
      " |      -------\n",
      " |      Dataset\n",
      " |          The transformed dataset.\n",
      " |  \n",
      " |  ----------------------------------------------------------------------\n",
      " |  Data descriptors inherited from mxnet.gluon.data.dataset.Dataset:\n",
      " |  \n",
      " |  __dict__\n",
      " |      dictionary for instance variables (if defined)\n",
      " |  \n",
      " |  __weakref__\n",
      " |      list of weak references to the object (if defined)\n",
      "\n"
     ]
    }
   ],
   "source": [
    "help(fashion_mnist_train)"
   ]
  },
  {
   "cell_type": "code",
   "execution_count": null,
   "metadata": {
    "collapsed": true
   },
   "outputs": [],
   "source": []
  }
 ],
 "metadata": {
  "kernelspec": {
   "display_name": "Python 3",
   "language": "python",
   "name": "python3"
  },
  "language_info": {
   "codemirror_mode": {
    "name": "ipython",
    "version": 3
   },
   "file_extension": ".py",
   "mimetype": "text/x-python",
   "name": "python",
   "nbconvert_exporter": "python",
   "pygments_lexer": "ipython3",
   "version": "3.6.1"
  }
 },
 "nbformat": 4,
 "nbformat_minor": 2
}
