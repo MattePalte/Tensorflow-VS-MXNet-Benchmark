{
 "cells": [
  {
   "cell_type": "code",
   "execution_count": null,
   "metadata": {},
   "outputs": [],
   "source": [
    "import os\n",
    "import sys\n",
    "import numpy as np\n",
    "import gzip\n",
    "import pandas as pd\n",
    "from time import time\n",
    "print(\"OS: \", sys.platform)\n",
    "print(\"Python: \", sys.version)\n",
    "\n",
    "from sklearn.model_selection import train_test_split\n",
    "import tensorflow as tf\n",
    "import tensorflow.keras as keras\n",
    "import tensorflow.keras.layers as layers\n",
    "from tensorflow.keras.models import Sequential\n",
    "from tensorflow.keras.preprocessing.image import ImageDataGenerator\n",
    "from tensorflow.keras.utils import to_categorical\n",
    "print(\"Tensorflow version (by Google): \", tf.__version__)\n",
    "\n",
    "#from tensorflow.python.framework.ops import disable_eager_execution\n",
    "#disable_eager_execution()"
   ]
  },
  {
   "cell_type": "code",
   "execution_count": null,
   "metadata": {},
   "outputs": [],
   "source": [
    "import random\n",
    "np.random.seed(42)\n",
    "random.seed(42)\n",
    "for computing_unit in ctx:\n",
    "    mx.random.seed(42, ctx = computing_unit)"
   ]
  },
  {
   "cell_type": "code",
   "execution_count": null,
   "metadata": {},
   "outputs": [],
   "source": [
    "# Read Data\n",
    "\n",
    "def read_mnist(images_path: str, labels_path: str):\n",
    "    #mnist_path = \"data/mnist/\"\n",
    "    #images_path = mnist_path + images_path\n",
    "    print(images_path)\n",
    "    with gzip.open(labels_path, 'rb') as labelsFile:\n",
    "        labels = np.frombuffer(labelsFile.read(), dtype=np.uint8, offset=8)\n",
    "\n",
    "    with gzip.open(images_path,'rb') as imagesFile:\n",
    "        length = len(labels)\n",
    "        # Load flat 28x28 px images (784 px), and convert them to 28x28 px\n",
    "        features = np.frombuffer(imagesFile.read(), dtype=np.uint8, offset=16) \\\n",
    "                        .reshape(length, 784) \\\n",
    "                        .reshape(length, 28, 28, 1)\n",
    "    return features, labels"
   ]
  },
  {
   "cell_type": "code",
   "execution_count": null,
   "metadata": {},
   "outputs": [],
   "source": [
    "# LOAD TRAIN AND TEST ALREADY SPLIT\n",
    "train = {}\n",
    "test = {}\n",
    "train['features'], train['labels'] = read_mnist('train-images-idx3-ubyte.gz', 'train-labels-idx1-ubyte.gz')\n",
    "test['features'], test['labels'] = read_mnist('t10k-images-idx3-ubyte.gz', 't10k-labels-idx1-ubyte.gz')\n",
    "print(test['features'].shape[0], '-> # of test images.')\n",
    "print(train['features'].shape[0], '-> # of training images (train + validation).')\n",
    "# CREATE TRAIN AND VALIDATION SPLIT\n",
    "validation = {}\n",
    "train['features'], validation['features'], train['labels'], validation['labels'] = train_test_split(train['features'], train['labels'], test_size=0.2, random_state=0)\n",
    "print(\"    \", train['features'].shape[0], '-> # of (actual) training images.')\n",
    "print(\"    \", validation['features'].shape[0], '-> # of validation images.')"
   ]
  },
  {
   "cell_type": "code",
   "execution_count": null,
   "metadata": {},
   "outputs": [],
   "source": [
    "# GENERAL PARAMETERS\n",
    "EPOCHS = 30\n",
    "BATCH_SIZE = 200\n",
    "\n",
    "# convert in multiple output for tensorflow\n",
    "X_train_tf, y_train_tf = train['features'], to_categorical(train['labels'])\n",
    "X_validation_tf, y_validation_tf = validation['features'], to_categorical(validation['labels'])\n",
    "# create data generator\n",
    "train_generator_tf = ImageDataGenerator().flow(X_train_tf, y_train_tf, batch_size=BATCH_SIZE)\n",
    "validation_generator_tf = ImageDataGenerator().flow(X_validation_tf, y_validation_tf, batch_size=BATCH_SIZE)\n",
    "\n",
    "X_train_tf.shape"
   ]
  },
  {
   "cell_type": "code",
   "execution_count": null,
   "metadata": {},
   "outputs": [],
   "source": [
    "# Create model, IDENTICAL TO LeNet paper: http://yann.lecun.com/exdb/publis/pdf/lecun-01a.pdf \n",
    "model_tf = keras.Sequential()\n",
    "init_tf = tf.keras.initializers.GlorotNormal(seed=1)\n",
    "model_tf.add(layers.Conv2D(filters=6, kernel_size=(5, 5), activation='relu', input_shape=(28,28,1), kernel_initializer = init_tf, bias_initializer = init_tf))\n",
    "model_tf.add(layers.AveragePooling2D(pool_size=(2, 2), strides=2))\n",
    "model_tf.add(layers.Conv2D(filters=16, kernel_size=(3, 3), activation='relu', kernel_initializer = init_tf, bias_initializer = init_tf))\n",
    "model_tf.add(layers.AveragePooling2D(pool_size=(2, 2), strides=2))\n",
    "model_tf.add(layers.Flatten())\n",
    "model_tf.add(layers.Dense(units=120, activation='relu', kernel_initializer = init_tf, bias_initializer = init_tf))\n",
    "model_tf.add(layers.Dense(units=84, activation='relu', kernel_initializer = init_tf, bias_initializer = init_tf))\n",
    "model_tf.add(layers.Dense(units=10, activation = 'softmax', kernel_initializer = init_tf, bias_initializer = init_tf))\n",
    "#model.summary()"
   ]
  },
  {
   "cell_type": "code",
   "execution_count": null,
   "metadata": {},
   "outputs": [],
   "source": [
    "# XLA optimization\n",
    "#tf.config.optimizer.set_jit(True) # XLA enabled.\n",
    "# https://www.tensorflow.org/xla/tutorials/autoclustering_xla"
   ]
  },
  {
   "cell_type": "code",
   "execution_count": null,
   "metadata": {},
   "outputs": [],
   "source": [
    "# TRain Model\n",
    "chosen_tf_optimizer = keras.optimizers.Adam(learning_rate=0.001, beta_1=0.9, beta_2=0.999, amsgrad=False)\n",
    "model_tf.compile(loss=keras.losses.categorical_crossentropy, optimizer=chosen_tf_optimizer, metrics=['accuracy'])\n",
    "steps_per_epoch = X_train_tf.shape[0]//BATCH_SIZE\n",
    "validation_steps = X_validation_tf.shape[0]//BATCH_SIZE\n",
    "model_tf.fit(train_generator_tf, steps_per_epoch=steps_per_epoch, epochs=EPOCHS, \n",
    "                    validation_data=validation_generator_tf, validation_steps=validation_steps, \n",
    "                    shuffle=True, callbacks=[])"
   ]
  },
  {
   "cell_type": "code",
   "execution_count": null,
   "metadata": {},
   "outputs": [],
   "source": [
    "# Model EValuation\n",
    "score = model_tf.evaluate(test['features'], to_categorical(test['labels']), verbose=0)\n",
    "#print('Test loss:', score[0])\n",
    "print('TensorFlow - Test accuracy:', score[1])\n",
    "assert score[1] > 0.90"
   ]
  }
 ],
 "metadata": {
  "kernelspec": {
   "display_name": "Python 3",
   "language": "python",
   "name": "python3"
  },
  "language_info": {
   "codemirror_mode": {
    "name": "ipython",
    "version": 3
   },
   "file_extension": ".py",
   "mimetype": "text/x-python",
   "name": "python",
   "nbconvert_exporter": "python",
   "pygments_lexer": "ipython3",
   "version": "3.7.5"
  }
 },
 "nbformat": 4,
 "nbformat_minor": 2
}
